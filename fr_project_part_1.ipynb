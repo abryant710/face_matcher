{
 "cells": [
  {
   "cell_type": "markdown",
   "metadata": {},
   "source": [
    "# How easy is it to test the accuracy of a face recognition algorithm?\n",
    "\n",
    "## Part 1 - taking a sample set and finding the faces\n",
    "\n",
    "### Background\n",
    "\n",
    "Face recognition (FR) algorithms are becoming more and more commonly used in world today. From fraud detection at passport offices to real-time face recognition at sporting stadiums, you have probably been matched before! Given their increased use, we should also be wondering how accurate they are. Face recognition is a subset of the broader field of [biometrics](https://en.wikipedia.org/wiki/Biometrics) which aims to recognise a person based on anaylsis of their uniquq biological characteristics.\n",
    "\n",
    "[Open source algorithms](https://github.com/ageitgey/face_recognition) are readily available such as this example written using dlib. dlib is an open source collection of image matching libraries written in C++. The 'face_recognition' module is a wrapper allowing access to this functionality using Python.\n",
    "\n",
    "[Labelled data sets](https://sites.google.com/view/sof-dataset) can also be found which provide a useful tool to test algorithms and their accuracy before putting them to use. The fact that the data is labelled means the \"ground truth\" information is available. This allows testers to ensure they are matching pairs of images of the same person's face, or images of different faces at any given time. This means the accuracy of the score produced by an algorithm can be easily measured, since a low score should result if the faces are different, and a high score should result if the images are of the same person. Doing this over a large sample set can give a bigger picture of how accurate the algorithm performs statistically. The labelling of the data set referenced here is explained [in this report](http://www.cse.yorku.ca/~mafifi/TheSpecsonFace.pdf).\n",
    "\n",
    "Ultimately the [reciever operating characteristics](https://en.wikipedia.org/wiki/Receiver_operating_characteristic) determined from an algoritm will give an overview of its performance. False acceptance rate (FAR) and false rejection rate (FRR) are commonly used to check the performance of an algorithm. In laymans terms:\n",
    "\n",
    "* False acceptance -> A high score from the algorithm despite the images being of different persons.\n",
    "* False rejection -> A low score from the algorithm despite the images being of the same person.\n",
    "\n",
    "\n",
    "### Aim \n",
    "\n",
    "We want to understand how we can quantify the accuracy of an open source face recogntion algorithm. We should be able to understand what impact the quality of the image data has on the accuracy of matching using the provided metadata as a guideline.\n"
   ]
  },
  {
   "cell_type": "code",
   "execution_count": 1,
   "metadata": {},
   "outputs": [],
   "source": [
    "# Import the data\n",
    "import fr_data_extractor as dext"
   ]
  },
  {
   "cell_type": "code",
   "execution_count": 2,
   "metadata": {},
   "outputs": [],
   "source": [
    "# Define the metadata columns as per the spec provided\n",
    "metadata_columns = ['subject_id', 'image_sequence_number', 'gender', 'age', 'lighting', 'view', 'cropped', 'facial_emotion', 'year', 'part', 'occlusion', 'image_filters', 'level_of_difficulty']"
   ]
  },
  {
   "cell_type": "code",
   "execution_count": 3,
   "metadata": {},
   "outputs": [],
   "source": [
    "# Read the folder of images (default kwarg for image_type is jpg, which is suitable for this dataset)\n",
    "dext_read = dext.FrDataExtractor(image_path='./images', columns=metadata_columns) "
   ]
  },
  {
   "cell_type": "code",
   "execution_count": 4,
   "metadata": {},
   "outputs": [],
   "source": [
    "# Generate a CSV file from the image file names\n",
    "dext_read.generate_csv(\"image_metadata.csv\", \",\") # should write a fresh CSV to local directory"
   ]
  },
  {
   "cell_type": "code",
   "execution_count": 5,
   "metadata": {},
   "outputs": [],
   "source": [
    "# Import pandas to read the CSV into a dataframe\n",
    "import pandas as pd"
   ]
  },
  {
   "cell_type": "code",
   "execution_count": 6,
   "metadata": {},
   "outputs": [],
   "source": [
    "fr_df = pd.read_csv('image_metadata.csv')"
   ]
  },
  {
   "cell_type": "code",
   "execution_count": 7,
   "metadata": {},
   "outputs": [
    {
     "data": {
      "text/plain": [
       "Index(['subject_id', 'image_sequence_number', 'gender', 'age', 'lighting',\n",
       "       'view', 'cropped', 'facial_emotion', 'year', 'part', 'occlusion',\n",
       "       'image_filters', 'level_of_difficulty', 'image_path'],\n",
       "      dtype='object')"
      ]
     },
     "execution_count": 7,
     "metadata": {},
     "output_type": "execute_result"
    }
   ],
   "source": [
    "fr_df.columns # Check the columns of the data frame are as expected"
   ]
  },
  {
   "cell_type": "code",
   "execution_count": 8,
   "metadata": {},
   "outputs": [
    {
     "data": {
      "text/plain": [
       "(42585, 14)"
      ]
     },
     "execution_count": 8,
     "metadata": {},
     "output_type": "execute_result"
    }
   ],
   "source": [
    "# Check the shape \n",
    "fr_df.shape"
   ]
  },
  {
   "cell_type": "code",
   "execution_count": 9,
   "metadata": {},
   "outputs": [
    {
     "data": {
      "text/html": [
       "<div>\n",
       "<style scoped>\n",
       "    .dataframe tbody tr th:only-of-type {\n",
       "        vertical-align: middle;\n",
       "    }\n",
       "\n",
       "    .dataframe tbody tr th {\n",
       "        vertical-align: top;\n",
       "    }\n",
       "\n",
       "    .dataframe thead th {\n",
       "        text-align: right;\n",
       "    }\n",
       "</style>\n",
       "<table border=\"1\" class=\"dataframe\">\n",
       "  <thead>\n",
       "    <tr style=\"text-align: right;\">\n",
       "      <th></th>\n",
       "      <th>subject_id</th>\n",
       "      <th>image_sequence_number</th>\n",
       "      <th>gender</th>\n",
       "      <th>age</th>\n",
       "      <th>lighting</th>\n",
       "      <th>view</th>\n",
       "      <th>cropped</th>\n",
       "      <th>facial_emotion</th>\n",
       "      <th>year</th>\n",
       "      <th>part</th>\n",
       "      <th>occlusion</th>\n",
       "      <th>image_filters</th>\n",
       "      <th>level_of_difficulty</th>\n",
       "      <th>image_path</th>\n",
       "    </tr>\n",
       "  </thead>\n",
       "  <tbody>\n",
       "    <tr>\n",
       "      <th>0</th>\n",
       "      <td>AboA</td>\n",
       "      <td>152</td>\n",
       "      <td>m</td>\n",
       "      <td>33</td>\n",
       "      <td>i</td>\n",
       "      <td>nf</td>\n",
       "      <td>nc</td>\n",
       "      <td>hp</td>\n",
       "      <td>2016</td>\n",
       "      <td>2</td>\n",
       "      <td>en</td>\n",
       "      <td>nl</td>\n",
       "      <td>m</td>\n",
       "      <td>./images/AboA_00152_m_33_i_nf_nc_hp_2016_2_en_...</td>\n",
       "    </tr>\n",
       "    <tr>\n",
       "      <th>1</th>\n",
       "      <td>MonD</td>\n",
       "      <td>1961</td>\n",
       "      <td>f</td>\n",
       "      <td>30</td>\n",
       "      <td>o</td>\n",
       "      <td>nf</td>\n",
       "      <td>nc</td>\n",
       "      <td>hp</td>\n",
       "      <td>2016</td>\n",
       "      <td>1</td>\n",
       "      <td>en</td>\n",
       "      <td>nl</td>\n",
       "      <td>h</td>\n",
       "      <td>./images/MonD_01961_f_30_o_nf_nc_hp_2016_1_en_...</td>\n",
       "    </tr>\n",
       "    <tr>\n",
       "      <th>2</th>\n",
       "      <td>BahA</td>\n",
       "      <td>594</td>\n",
       "      <td>m</td>\n",
       "      <td>36</td>\n",
       "      <td>i</td>\n",
       "      <td>fr</td>\n",
       "      <td>nc</td>\n",
       "      <td>no</td>\n",
       "      <td>2016</td>\n",
       "      <td>2</td>\n",
       "      <td>e0</td>\n",
       "      <td>Gn</td>\n",
       "      <td>e</td>\n",
       "      <td>./images/BahA_00594_m_36_i_fr_nc_no_2016_2_e0_...</td>\n",
       "    </tr>\n",
       "    <tr>\n",
       "      <th>3</th>\n",
       "      <td>YosB</td>\n",
       "      <td>2527</td>\n",
       "      <td>f</td>\n",
       "      <td>20</td>\n",
       "      <td>i</td>\n",
       "      <td>nf</td>\n",
       "      <td>nc</td>\n",
       "      <td>hp</td>\n",
       "      <td>2016</td>\n",
       "      <td>2</td>\n",
       "      <td>e0</td>\n",
       "      <td>Gs</td>\n",
       "      <td>m</td>\n",
       "      <td>./images/YosB_02527_f_20_i_nf_nc_hp_2016_2_e0_...</td>\n",
       "    </tr>\n",
       "    <tr>\n",
       "      <th>4</th>\n",
       "      <td>SarE</td>\n",
       "      <td>2381</td>\n",
       "      <td>f</td>\n",
       "      <td>22</td>\n",
       "      <td>i</td>\n",
       "      <td>nf</td>\n",
       "      <td>nc</td>\n",
       "      <td>hp</td>\n",
       "      <td>2016</td>\n",
       "      <td>2</td>\n",
       "      <td>e0</td>\n",
       "      <td>Ps</td>\n",
       "      <td>e</td>\n",
       "      <td>./images/SarE_02381_f_22_i_nf_nc_hp_2016_2_e0_...</td>\n",
       "    </tr>\n",
       "    <tr>\n",
       "      <th>5</th>\n",
       "      <td>BahA</td>\n",
       "      <td>717</td>\n",
       "      <td>m</td>\n",
       "      <td>36</td>\n",
       "      <td>i</td>\n",
       "      <td>fr</td>\n",
       "      <td>nc</td>\n",
       "      <td>no</td>\n",
       "      <td>2016</td>\n",
       "      <td>2</td>\n",
       "      <td>en</td>\n",
       "      <td>nl</td>\n",
       "      <td>e</td>\n",
       "      <td>./images/BahA_00717_m_36_i_fr_nc_no_2016_2_en_...</td>\n",
       "    </tr>\n",
       "    <tr>\n",
       "      <th>6</th>\n",
       "      <td>AhmI</td>\n",
       "      <td>328</td>\n",
       "      <td>m</td>\n",
       "      <td>20</td>\n",
       "      <td>o</td>\n",
       "      <td>nf</td>\n",
       "      <td>nc</td>\n",
       "      <td>hp</td>\n",
       "      <td>2009</td>\n",
       "      <td>1</td>\n",
       "      <td>em</td>\n",
       "      <td>nl</td>\n",
       "      <td>e</td>\n",
       "      <td>./images/AhmI_00328_m_20_o_nf_nc_hp_2009_1_em_...</td>\n",
       "    </tr>\n",
       "    <tr>\n",
       "      <th>7</th>\n",
       "      <td>MotM</td>\n",
       "      <td>2007</td>\n",
       "      <td>m</td>\n",
       "      <td>21</td>\n",
       "      <td>i</td>\n",
       "      <td>fr</td>\n",
       "      <td>nc</td>\n",
       "      <td>hp</td>\n",
       "      <td>2015</td>\n",
       "      <td>1</td>\n",
       "      <td>e0</td>\n",
       "      <td>Gs</td>\n",
       "      <td>h</td>\n",
       "      <td>./images/MotM_02007_m_21_i_fr_nc_hp_2015_1_e0_...</td>\n",
       "    </tr>\n",
       "    <tr>\n",
       "      <th>8</th>\n",
       "      <td>MotM</td>\n",
       "      <td>1984</td>\n",
       "      <td>m</td>\n",
       "      <td>21</td>\n",
       "      <td>i</td>\n",
       "      <td>fr</td>\n",
       "      <td>nc</td>\n",
       "      <td>sd</td>\n",
       "      <td>2015</td>\n",
       "      <td>1</td>\n",
       "      <td>e0</td>\n",
       "      <td>Gn</td>\n",
       "      <td>e</td>\n",
       "      <td>./images/MotM_01984_m_21_i_fr_nc_sd_2015_1_e0_...</td>\n",
       "    </tr>\n",
       "    <tr>\n",
       "      <th>9</th>\n",
       "      <td>AhmS</td>\n",
       "      <td>356</td>\n",
       "      <td>m</td>\n",
       "      <td>20</td>\n",
       "      <td>o</td>\n",
       "      <td>nf</td>\n",
       "      <td>nc</td>\n",
       "      <td>hp</td>\n",
       "      <td>2015</td>\n",
       "      <td>1</td>\n",
       "      <td>e0</td>\n",
       "      <td>Gn</td>\n",
       "      <td>m</td>\n",
       "      <td>./images/AhmS_00356_m_20_o_nf_nc_hp_2015_1_e0_...</td>\n",
       "    </tr>\n",
       "  </tbody>\n",
       "</table>\n",
       "</div>"
      ],
      "text/plain": [
       "  subject_id  image_sequence_number gender  age lighting view cropped  \\\n",
       "0       AboA                    152      m   33        i   nf      nc   \n",
       "1       MonD                   1961      f   30        o   nf      nc   \n",
       "2       BahA                    594      m   36        i   fr      nc   \n",
       "3       YosB                   2527      f   20        i   nf      nc   \n",
       "4       SarE                   2381      f   22        i   nf      nc   \n",
       "5       BahA                    717      m   36        i   fr      nc   \n",
       "6       AhmI                    328      m   20        o   nf      nc   \n",
       "7       MotM                   2007      m   21        i   fr      nc   \n",
       "8       MotM                   1984      m   21        i   fr      nc   \n",
       "9       AhmS                    356      m   20        o   nf      nc   \n",
       "\n",
       "  facial_emotion  year  part occlusion image_filters level_of_difficulty  \\\n",
       "0             hp  2016     2        en            nl                   m   \n",
       "1             hp  2016     1        en            nl                   h   \n",
       "2             no  2016     2        e0            Gn                   e   \n",
       "3             hp  2016     2        e0            Gs                   m   \n",
       "4             hp  2016     2        e0            Ps                   e   \n",
       "5             no  2016     2        en            nl                   e   \n",
       "6             hp  2009     1        em            nl                   e   \n",
       "7             hp  2015     1        e0            Gs                   h   \n",
       "8             sd  2015     1        e0            Gn                   e   \n",
       "9             hp  2015     1        e0            Gn                   m   \n",
       "\n",
       "                                          image_path  \n",
       "0  ./images/AboA_00152_m_33_i_nf_nc_hp_2016_2_en_...  \n",
       "1  ./images/MonD_01961_f_30_o_nf_nc_hp_2016_1_en_...  \n",
       "2  ./images/BahA_00594_m_36_i_fr_nc_no_2016_2_e0_...  \n",
       "3  ./images/YosB_02527_f_20_i_nf_nc_hp_2016_2_e0_...  \n",
       "4  ./images/SarE_02381_f_22_i_nf_nc_hp_2016_2_e0_...  \n",
       "5  ./images/BahA_00717_m_36_i_fr_nc_no_2016_2_en_...  \n",
       "6  ./images/AhmI_00328_m_20_o_nf_nc_hp_2009_1_em_...  \n",
       "7  ./images/MotM_02007_m_21_i_fr_nc_hp_2015_1_e0_...  \n",
       "8  ./images/MotM_01984_m_21_i_fr_nc_sd_2015_1_e0_...  \n",
       "9  ./images/AhmS_00356_m_20_o_nf_nc_hp_2015_1_e0_...  "
      ]
     },
     "execution_count": 9,
     "metadata": {},
     "output_type": "execute_result"
    }
   ],
   "source": [
    "# Check the first 10 rows\n",
    "fr_df.head(10)"
   ]
  },
  {
   "cell_type": "code",
   "execution_count": 10,
   "metadata": {},
   "outputs": [
    {
     "data": {
      "text/plain": [
       "subject_id               object\n",
       "image_sequence_number     int64\n",
       "gender                   object\n",
       "age                       int64\n",
       "lighting                 object\n",
       "view                     object\n",
       "cropped                  object\n",
       "facial_emotion           object\n",
       "year                      int64\n",
       "part                      int64\n",
       "occlusion                object\n",
       "image_filters            object\n",
       "level_of_difficulty      object\n",
       "image_path               object\n",
       "dtype: object"
      ]
     },
     "execution_count": 10,
     "metadata": {},
     "output_type": "execute_result"
    }
   ],
   "source": [
    "# Check the datatypes\n",
    "fr_df.dtypes"
   ]
  },
  {
   "cell_type": "code",
   "execution_count": 11,
   "metadata": {},
   "outputs": [],
   "source": [
    "# Import the face matcher class\n",
    "import face_matcher as fm"
   ]
  },
  {
   "cell_type": "code",
   "execution_count": 12,
   "metadata": {},
   "outputs": [
    {
     "name": "stdout",
     "output_type": "stream",
     "text": [
      "[(41, 381, 183, 240)]\n",
      "[(187, 225, 391, 21)]\n",
      "None\n",
      "None\n",
      "[(136, 365, 254, 247)]\n"
     ]
    }
   ],
   "source": [
    "matcher = fm.FaceMatcher()\n",
    "# Test finding faces with the first 5 image paths in df\n",
    "first_ten_face_locs = fr_df['image_path'][0:5].tolist() # convert to list to loop over and input to find_faces function\n",
    "for face_loc in first_ten_face_locs:\n",
    "    print(matcher.find_faces(face_loc))"
   ]
  },
  {
   "cell_type": "code",
   "execution_count": 13,
   "metadata": {},
   "outputs": [
    {
     "data": {
      "text/plain": [
       "(2085, 14)"
      ]
     },
     "execution_count": 13,
     "metadata": {},
     "output_type": "execute_result"
    }
   ],
   "source": [
    "# Face finding takes about 1 second to compute for each image, which is quite time consuming\n",
    "# Let's reduce the size of the sample set by taking only the images marked as easy and in year 2015\n",
    "fr_easy_df = fr_df[fr_df['level_of_difficulty'] == \"e\"]\n",
    "fr_easy_df = fr_easy_df[fr_easy_df['year'] == 2015]\n",
    "fr_easy_df.shape"
   ]
  },
  {
   "cell_type": "code",
   "execution_count": 14,
   "metadata": {},
   "outputs": [
    {
     "data": {
      "text/html": [
       "<div>\n",
       "<style scoped>\n",
       "    .dataframe tbody tr th:only-of-type {\n",
       "        vertical-align: middle;\n",
       "    }\n",
       "\n",
       "    .dataframe tbody tr th {\n",
       "        vertical-align: top;\n",
       "    }\n",
       "\n",
       "    .dataframe thead th {\n",
       "        text-align: right;\n",
       "    }\n",
       "</style>\n",
       "<table border=\"1\" class=\"dataframe\">\n",
       "  <thead>\n",
       "    <tr style=\"text-align: right;\">\n",
       "      <th></th>\n",
       "      <th>subject_id</th>\n",
       "      <th>image_sequence_number</th>\n",
       "      <th>gender</th>\n",
       "      <th>age</th>\n",
       "      <th>lighting</th>\n",
       "      <th>view</th>\n",
       "      <th>cropped</th>\n",
       "      <th>facial_emotion</th>\n",
       "      <th>year</th>\n",
       "      <th>part</th>\n",
       "      <th>occlusion</th>\n",
       "      <th>image_filters</th>\n",
       "      <th>level_of_difficulty</th>\n",
       "      <th>image_path</th>\n",
       "    </tr>\n",
       "  </thead>\n",
       "  <tbody>\n",
       "    <tr>\n",
       "      <th>8</th>\n",
       "      <td>MotM</td>\n",
       "      <td>1984</td>\n",
       "      <td>m</td>\n",
       "      <td>21</td>\n",
       "      <td>i</td>\n",
       "      <td>fr</td>\n",
       "      <td>nc</td>\n",
       "      <td>sd</td>\n",
       "      <td>2015</td>\n",
       "      <td>1</td>\n",
       "      <td>e0</td>\n",
       "      <td>Gn</td>\n",
       "      <td>e</td>\n",
       "      <td>./images/MotM_01984_m_21_i_fr_nc_sd_2015_1_e0_...</td>\n",
       "    </tr>\n",
       "    <tr>\n",
       "      <th>14</th>\n",
       "      <td>PetK</td>\n",
       "      <td>2257</td>\n",
       "      <td>m</td>\n",
       "      <td>20</td>\n",
       "      <td>i</td>\n",
       "      <td>nf</td>\n",
       "      <td>nc</td>\n",
       "      <td>no</td>\n",
       "      <td>2015</td>\n",
       "      <td>1</td>\n",
       "      <td>e0</td>\n",
       "      <td>Ps</td>\n",
       "      <td>e</td>\n",
       "      <td>./images/PetK_02257_m_20_i_nf_nc_no_2015_1_e0_...</td>\n",
       "    </tr>\n",
       "    <tr>\n",
       "      <th>60</th>\n",
       "      <td>MosK</td>\n",
       "      <td>1975</td>\n",
       "      <td>m</td>\n",
       "      <td>20</td>\n",
       "      <td>o</td>\n",
       "      <td>nf</td>\n",
       "      <td>nc</td>\n",
       "      <td>sd</td>\n",
       "      <td>2015</td>\n",
       "      <td>1</td>\n",
       "      <td>e0</td>\n",
       "      <td>Gs</td>\n",
       "      <td>e</td>\n",
       "      <td>./images/MosK_01975_m_20_o_nf_nc_sd_2015_1_e0_...</td>\n",
       "    </tr>\n",
       "  </tbody>\n",
       "</table>\n",
       "</div>"
      ],
      "text/plain": [
       "   subject_id  image_sequence_number gender  age lighting view cropped  \\\n",
       "8        MotM                   1984      m   21        i   fr      nc   \n",
       "14       PetK                   2257      m   20        i   nf      nc   \n",
       "60       MosK                   1975      m   20        o   nf      nc   \n",
       "\n",
       "   facial_emotion  year  part occlusion image_filters level_of_difficulty  \\\n",
       "8              sd  2015     1        e0            Gn                   e   \n",
       "14             no  2015     1        e0            Ps                   e   \n",
       "60             sd  2015     1        e0            Gs                   e   \n",
       "\n",
       "                                           image_path  \n",
       "8   ./images/MotM_01984_m_21_i_fr_nc_sd_2015_1_e0_...  \n",
       "14  ./images/PetK_02257_m_20_i_nf_nc_no_2015_1_e0_...  \n",
       "60  ./images/MosK_01975_m_20_o_nf_nc_sd_2015_1_e0_...  "
      ]
     },
     "execution_count": 14,
     "metadata": {},
     "output_type": "execute_result"
    }
   ],
   "source": [
    "fr_easy_df.head(3)"
   ]
  },
  {
   "cell_type": "code",
   "execution_count": 15,
   "metadata": {},
   "outputs": [
    {
     "data": {
      "text/html": [
       "<div>\n",
       "<style scoped>\n",
       "    .dataframe tbody tr th:only-of-type {\n",
       "        vertical-align: middle;\n",
       "    }\n",
       "\n",
       "    .dataframe tbody tr th {\n",
       "        vertical-align: top;\n",
       "    }\n",
       "\n",
       "    .dataframe thead th {\n",
       "        text-align: right;\n",
       "    }\n",
       "</style>\n",
       "<table border=\"1\" class=\"dataframe\">\n",
       "  <thead>\n",
       "    <tr style=\"text-align: right;\">\n",
       "      <th></th>\n",
       "      <th>subject_id</th>\n",
       "      <th>image_sequence_number</th>\n",
       "      <th>gender</th>\n",
       "      <th>age</th>\n",
       "      <th>lighting</th>\n",
       "      <th>view</th>\n",
       "      <th>cropped</th>\n",
       "      <th>facial_emotion</th>\n",
       "      <th>year</th>\n",
       "      <th>part</th>\n",
       "      <th>occlusion</th>\n",
       "      <th>image_filters</th>\n",
       "      <th>level_of_difficulty</th>\n",
       "      <th>image_path</th>\n",
       "    </tr>\n",
       "  </thead>\n",
       "  <tbody>\n",
       "    <tr>\n",
       "      <th>0</th>\n",
       "      <td>MotM</td>\n",
       "      <td>1984</td>\n",
       "      <td>m</td>\n",
       "      <td>21</td>\n",
       "      <td>i</td>\n",
       "      <td>fr</td>\n",
       "      <td>nc</td>\n",
       "      <td>sd</td>\n",
       "      <td>2015</td>\n",
       "      <td>1</td>\n",
       "      <td>e0</td>\n",
       "      <td>Gn</td>\n",
       "      <td>e</td>\n",
       "      <td>./images/MotM_01984_m_21_i_fr_nc_sd_2015_1_e0_...</td>\n",
       "    </tr>\n",
       "    <tr>\n",
       "      <th>1</th>\n",
       "      <td>PetK</td>\n",
       "      <td>2257</td>\n",
       "      <td>m</td>\n",
       "      <td>20</td>\n",
       "      <td>i</td>\n",
       "      <td>nf</td>\n",
       "      <td>nc</td>\n",
       "      <td>no</td>\n",
       "      <td>2015</td>\n",
       "      <td>1</td>\n",
       "      <td>e0</td>\n",
       "      <td>Ps</td>\n",
       "      <td>e</td>\n",
       "      <td>./images/PetK_02257_m_20_i_nf_nc_no_2015_1_e0_...</td>\n",
       "    </tr>\n",
       "    <tr>\n",
       "      <th>2</th>\n",
       "      <td>MosK</td>\n",
       "      <td>1975</td>\n",
       "      <td>m</td>\n",
       "      <td>20</td>\n",
       "      <td>o</td>\n",
       "      <td>nf</td>\n",
       "      <td>nc</td>\n",
       "      <td>sd</td>\n",
       "      <td>2015</td>\n",
       "      <td>1</td>\n",
       "      <td>e0</td>\n",
       "      <td>Gs</td>\n",
       "      <td>e</td>\n",
       "      <td>./images/MosK_01975_m_20_o_nf_nc_sd_2015_1_e0_...</td>\n",
       "    </tr>\n",
       "  </tbody>\n",
       "</table>\n",
       "</div>"
      ],
      "text/plain": [
       "  subject_id  image_sequence_number gender  age lighting view cropped  \\\n",
       "0       MotM                   1984      m   21        i   fr      nc   \n",
       "1       PetK                   2257      m   20        i   nf      nc   \n",
       "2       MosK                   1975      m   20        o   nf      nc   \n",
       "\n",
       "  facial_emotion  year  part occlusion image_filters level_of_difficulty  \\\n",
       "0             sd  2015     1        e0            Gn                   e   \n",
       "1             no  2015     1        e0            Ps                   e   \n",
       "2             sd  2015     1        e0            Gs                   e   \n",
       "\n",
       "                                          image_path  \n",
       "0  ./images/MotM_01984_m_21_i_fr_nc_sd_2015_1_e0_...  \n",
       "1  ./images/PetK_02257_m_20_i_nf_nc_no_2015_1_e0_...  \n",
       "2  ./images/MosK_01975_m_20_o_nf_nc_sd_2015_1_e0_...  "
      ]
     },
     "execution_count": 15,
     "metadata": {},
     "output_type": "execute_result"
    }
   ],
   "source": [
    "# Better to reindex the dataframe\n",
    "fr_easy_df = fr_easy_df.reset_index(drop=True)\n",
    "fr_easy_df.head(3)"
   ]
  },
  {
   "cell_type": "code",
   "execution_count": 16,
   "metadata": {},
   "outputs": [],
   "source": [
    "# group by the subject ID\n",
    "grouped_easy_df = fr_easy_df.groupby('subject_id')"
   ]
  },
  {
   "cell_type": "code",
   "execution_count": 17,
   "metadata": {},
   "outputs": [
    {
     "data": {
      "text/plain": [
       "66"
      ]
     },
     "execution_count": 17,
     "metadata": {},
     "output_type": "execute_result"
    }
   ],
   "source": [
    "# Count the number of identities in the mix\n",
    "subjects = grouped_easy_df.groups.keys()\n",
    "len(subjects)"
   ]
  },
  {
   "cell_type": "code",
   "execution_count": 18,
   "metadata": {},
   "outputs": [
    {
     "name": "stdout",
     "output_type": "stream",
     "text": [
      "Processing... ./images/MotM_01984_m_21_i_fr_nc_sd_2015_1_e0_Gn_e.jpg\n",
      "Faces found [(159, 366, 404, 122)]\n",
      "Processing... ./images/PetK_02257_m_20_i_nf_nc_no_2015_1_e0_Ps_e.jpg\n",
      "Faces found [(117, 432, 287, 262)]\n",
      "2 processed in 5 seconds\n",
      "Processing... ./images/MosK_01975_m_20_o_nf_nc_sd_2015_1_e0_Gs_e.jpg\n",
      "Faces found [(125, 452, 329, 248)]\n",
      "Processing... ./images/MeiH_01356_f_20_i_nf_nc_sd_2015_1_en_nl_e.jpg\n",
      "Faces found [(136, 459, 429, 165)]\n",
      "4 processed in 11 seconds\n",
      "Processing... ./images/GeoS_00791_m_22_i_fr_nc_no_2015_1_e0_Gs_e.jpg\n",
      "Faces found [(135, 416, 379, 171)]\n",
      "All completed. Average processing time of 2.6 seconds per image\n",
      "[[(159, 366, 404, 122)], [(117, 432, 287, 262)], [(125, 452, 329, 248)], [(136, 459, 429, 165)], [(135, 416, 379, 171)]]\n"
     ]
    }
   ],
   "source": [
    "# This should work quite well as a small sample set for both mates matching and cross matching assessments\n",
    "# Here want want to add the found faces to a new column. This is effectively an enrollment of the face locations.\n",
    "# A function will be defined so it can be tested on a small set first before proceeding to the full set since\n",
    "# this operation will take quite some time...\n",
    "# If the faces are found correctly, we can now process over the full subset and append the column to our dataframe\n",
    "faces_found_col = matcher.find_faces_batch(fr_easy_df['image_path'].tolist()[0:5], do_log=True, track_progress=2)\n",
    "print(faces_found_col)  # Test for 5"
   ]
  },
  {
   "cell_type": "code",
   "execution_count": 19,
   "metadata": {},
   "outputs": [
    {
     "name": "stdout",
     "output_type": "stream",
     "text": [
      "Processing... ./images/MotM_01984_m_21_i_fr_nc_sd_2015_1_e0_Gn_e.jpg\n",
      "Faces found [(171, 379, 439, 111)]\n",
      "Processing... ./images/PetK_02257_m_20_i_nf_nc_no_2015_1_e0_Ps_e.jpg\n",
      "Faces found [(118, 464, 341, 241)]\n",
      "2 processed in 0 seconds\n",
      "Processing... ./images/MosK_01975_m_20_o_nf_nc_sd_2015_1_e0_Gs_e.jpg\n",
      "Faces found [(142, 489, 365, 266)]\n",
      "Processing... ./images/MeiH_01356_f_20_i_nf_nc_sd_2015_1_en_nl_e.jpg\n",
      "Faces found [(170, 491, 480, 170)]\n",
      "4 processed in 0 seconds\n",
      "Processing... ./images/GeoS_00791_m_22_i_fr_nc_no_2015_1_e0_Gs_e.jpg\n",
      "Faces found [(142, 409, 409, 141)]\n",
      "All completed. Average processing time of 0.0 seconds per image\n",
      "[[(171, 379, 439, 111)], [(118, 464, 341, 241)], [(142, 489, 365, 266)], [(170, 491, 480, 170)], [(142, 409, 409, 141)]]\n"
     ]
    }
   ],
   "source": [
    "# Seems quite slow, lets try with the hog model with is less accurate but faster\n",
    "faces_found_col = matcher.find_faces_batch(fr_easy_df['image_path'].tolist()[0:5], do_log=True, track_progress=2, match_model=\"hog\")\n",
    "print(faces_found_col)  # Test for 5"
   ]
  },
  {
   "cell_type": "code",
   "execution_count": 20,
   "metadata": {},
   "outputs": [
    {
     "name": "stdout",
     "output_type": "stream",
     "text": [
      "200 processed in 31 seconds\n",
      "400 processed in 62 seconds\n",
      "600 processed in 93 seconds\n",
      "800 processed in 125 seconds\n",
      "1000 processed in 155 seconds\n",
      "1200 processed in 186 seconds\n",
      "1400 processed in 217 seconds\n",
      "1600 processed in 247 seconds\n",
      "1800 processed in 277 seconds\n",
      "2000 processed in 306 seconds\n",
      "All completed. Average processing time of 0.15299760191846523 seconds per image\n"
     ]
    },
    {
     "data": {
      "text/plain": [
       "2085"
      ]
     },
     "execution_count": 20,
     "metadata": {},
     "output_type": "execute_result"
    }
   ],
   "source": [
    "faces_found_col = matcher.find_faces_batch(fr_easy_df['image_path'].tolist(), match_model=\"hog\") # suppress logging in this case\n",
    "len(faces_found_col)"
   ]
  },
  {
   "cell_type": "code",
   "execution_count": 34,
   "metadata": {},
   "outputs": [
    {
     "data": {
      "text/html": [
       "<div>\n",
       "<style scoped>\n",
       "    .dataframe tbody tr th:only-of-type {\n",
       "        vertical-align: middle;\n",
       "    }\n",
       "\n",
       "    .dataframe tbody tr th {\n",
       "        vertical-align: top;\n",
       "    }\n",
       "\n",
       "    .dataframe thead th {\n",
       "        text-align: right;\n",
       "    }\n",
       "</style>\n",
       "<table border=\"1\" class=\"dataframe\">\n",
       "  <thead>\n",
       "    <tr style=\"text-align: right;\">\n",
       "      <th></th>\n",
       "      <th>subject_id</th>\n",
       "      <th>image_sequence_number</th>\n",
       "      <th>gender</th>\n",
       "      <th>age</th>\n",
       "      <th>lighting</th>\n",
       "      <th>view</th>\n",
       "      <th>cropped</th>\n",
       "      <th>facial_emotion</th>\n",
       "      <th>year</th>\n",
       "      <th>part</th>\n",
       "      <th>occlusion</th>\n",
       "      <th>image_filters</th>\n",
       "      <th>level_of_difficulty</th>\n",
       "      <th>image_path</th>\n",
       "      <th>face_locations</th>\n",
       "      <th>faces_found</th>\n",
       "    </tr>\n",
       "  </thead>\n",
       "  <tbody>\n",
       "    <tr>\n",
       "      <th>0</th>\n",
       "      <td>MotM</td>\n",
       "      <td>1984</td>\n",
       "      <td>m</td>\n",
       "      <td>21</td>\n",
       "      <td>i</td>\n",
       "      <td>fr</td>\n",
       "      <td>nc</td>\n",
       "      <td>sd</td>\n",
       "      <td>2015</td>\n",
       "      <td>1</td>\n",
       "      <td>e0</td>\n",
       "      <td>Gn</td>\n",
       "      <td>e</td>\n",
       "      <td>./images/MotM_01984_m_21_i_fr_nc_sd_2015_1_e0_...</td>\n",
       "      <td>[(171, 379, 439, 111)]</td>\n",
       "      <td>1</td>\n",
       "    </tr>\n",
       "    <tr>\n",
       "      <th>1</th>\n",
       "      <td>PetK</td>\n",
       "      <td>2257</td>\n",
       "      <td>m</td>\n",
       "      <td>20</td>\n",
       "      <td>i</td>\n",
       "      <td>nf</td>\n",
       "      <td>nc</td>\n",
       "      <td>no</td>\n",
       "      <td>2015</td>\n",
       "      <td>1</td>\n",
       "      <td>e0</td>\n",
       "      <td>Ps</td>\n",
       "      <td>e</td>\n",
       "      <td>./images/PetK_02257_m_20_i_nf_nc_no_2015_1_e0_...</td>\n",
       "      <td>[(118, 464, 341, 241)]</td>\n",
       "      <td>1</td>\n",
       "    </tr>\n",
       "    <tr>\n",
       "      <th>2</th>\n",
       "      <td>MosK</td>\n",
       "      <td>1975</td>\n",
       "      <td>m</td>\n",
       "      <td>20</td>\n",
       "      <td>o</td>\n",
       "      <td>nf</td>\n",
       "      <td>nc</td>\n",
       "      <td>sd</td>\n",
       "      <td>2015</td>\n",
       "      <td>1</td>\n",
       "      <td>e0</td>\n",
       "      <td>Gs</td>\n",
       "      <td>e</td>\n",
       "      <td>./images/MosK_01975_m_20_o_nf_nc_sd_2015_1_e0_...</td>\n",
       "      <td>[(142, 489, 365, 266)]</td>\n",
       "      <td>1</td>\n",
       "    </tr>\n",
       "  </tbody>\n",
       "</table>\n",
       "</div>"
      ],
      "text/plain": [
       "  subject_id  image_sequence_number gender  age lighting view cropped  \\\n",
       "0       MotM                   1984      m   21        i   fr      nc   \n",
       "1       PetK                   2257      m   20        i   nf      nc   \n",
       "2       MosK                   1975      m   20        o   nf      nc   \n",
       "\n",
       "  facial_emotion  year  part occlusion image_filters level_of_difficulty  \\\n",
       "0             sd  2015     1        e0            Gn                   e   \n",
       "1             no  2015     1        e0            Ps                   e   \n",
       "2             sd  2015     1        e0            Gs                   e   \n",
       "\n",
       "                                          image_path          face_locations  \\\n",
       "0  ./images/MotM_01984_m_21_i_fr_nc_sd_2015_1_e0_...  [(171, 379, 439, 111)]   \n",
       "1  ./images/PetK_02257_m_20_i_nf_nc_no_2015_1_e0_...  [(118, 464, 341, 241)]   \n",
       "2  ./images/MosK_01975_m_20_o_nf_nc_sd_2015_1_e0_...  [(142, 489, 365, 266)]   \n",
       "\n",
       "   faces_found  \n",
       "0            1  \n",
       "1            1  \n",
       "2            1  "
      ]
     },
     "execution_count": 34,
     "metadata": {},
     "output_type": "execute_result"
    }
   ],
   "source": [
    "# Add the results as a new column\n",
    "fr_easy_df['face_locations'] = faces_found_col\n",
    "fr_easy_df.head(3)"
   ]
  },
  {
   "cell_type": "code",
   "execution_count": 22,
   "metadata": {},
   "outputs": [
    {
     "data": {
      "text/html": [
       "<div>\n",
       "<style scoped>\n",
       "    .dataframe tbody tr th:only-of-type {\n",
       "        vertical-align: middle;\n",
       "    }\n",
       "\n",
       "    .dataframe tbody tr th {\n",
       "        vertical-align: top;\n",
       "    }\n",
       "\n",
       "    .dataframe thead th {\n",
       "        text-align: right;\n",
       "    }\n",
       "</style>\n",
       "<table border=\"1\" class=\"dataframe\">\n",
       "  <thead>\n",
       "    <tr style=\"text-align: right;\">\n",
       "      <th></th>\n",
       "      <th>subject_id</th>\n",
       "      <th>image_sequence_number</th>\n",
       "      <th>gender</th>\n",
       "      <th>age</th>\n",
       "      <th>lighting</th>\n",
       "      <th>view</th>\n",
       "      <th>cropped</th>\n",
       "      <th>facial_emotion</th>\n",
       "      <th>year</th>\n",
       "      <th>part</th>\n",
       "      <th>occlusion</th>\n",
       "      <th>image_filters</th>\n",
       "      <th>level_of_difficulty</th>\n",
       "      <th>image_path</th>\n",
       "      <th>face_locations</th>\n",
       "      <th>faces_found</th>\n",
       "    </tr>\n",
       "  </thead>\n",
       "  <tbody>\n",
       "    <tr>\n",
       "      <th>0</th>\n",
       "      <td>MotM</td>\n",
       "      <td>1984</td>\n",
       "      <td>m</td>\n",
       "      <td>21</td>\n",
       "      <td>i</td>\n",
       "      <td>fr</td>\n",
       "      <td>nc</td>\n",
       "      <td>sd</td>\n",
       "      <td>2015</td>\n",
       "      <td>1</td>\n",
       "      <td>e0</td>\n",
       "      <td>Gn</td>\n",
       "      <td>e</td>\n",
       "      <td>./images/MotM_01984_m_21_i_fr_nc_sd_2015_1_e0_...</td>\n",
       "      <td>[(171, 379, 439, 111)]</td>\n",
       "      <td>1</td>\n",
       "    </tr>\n",
       "    <tr>\n",
       "      <th>1</th>\n",
       "      <td>PetK</td>\n",
       "      <td>2257</td>\n",
       "      <td>m</td>\n",
       "      <td>20</td>\n",
       "      <td>i</td>\n",
       "      <td>nf</td>\n",
       "      <td>nc</td>\n",
       "      <td>no</td>\n",
       "      <td>2015</td>\n",
       "      <td>1</td>\n",
       "      <td>e0</td>\n",
       "      <td>Ps</td>\n",
       "      <td>e</td>\n",
       "      <td>./images/PetK_02257_m_20_i_nf_nc_no_2015_1_e0_...</td>\n",
       "      <td>[(118, 464, 341, 241)]</td>\n",
       "      <td>1</td>\n",
       "    </tr>\n",
       "    <tr>\n",
       "      <th>2</th>\n",
       "      <td>MosK</td>\n",
       "      <td>1975</td>\n",
       "      <td>m</td>\n",
       "      <td>20</td>\n",
       "      <td>o</td>\n",
       "      <td>nf</td>\n",
       "      <td>nc</td>\n",
       "      <td>sd</td>\n",
       "      <td>2015</td>\n",
       "      <td>1</td>\n",
       "      <td>e0</td>\n",
       "      <td>Gs</td>\n",
       "      <td>e</td>\n",
       "      <td>./images/MosK_01975_m_20_o_nf_nc_sd_2015_1_e0_...</td>\n",
       "      <td>[(142, 489, 365, 266)]</td>\n",
       "      <td>1</td>\n",
       "    </tr>\n",
       "  </tbody>\n",
       "</table>\n",
       "</div>"
      ],
      "text/plain": [
       "  subject_id  image_sequence_number gender  age lighting view cropped  \\\n",
       "0       MotM                   1984      m   21        i   fr      nc   \n",
       "1       PetK                   2257      m   20        i   nf      nc   \n",
       "2       MosK                   1975      m   20        o   nf      nc   \n",
       "\n",
       "  facial_emotion  year  part occlusion image_filters level_of_difficulty  \\\n",
       "0             sd  2015     1        e0            Gn                   e   \n",
       "1             no  2015     1        e0            Ps                   e   \n",
       "2             sd  2015     1        e0            Gs                   e   \n",
       "\n",
       "                                          image_path          face_locations  \\\n",
       "0  ./images/MotM_01984_m_21_i_fr_nc_sd_2015_1_e0_...  [(171, 379, 439, 111)]   \n",
       "1  ./images/PetK_02257_m_20_i_nf_nc_no_2015_1_e0_...  [(118, 464, 341, 241)]   \n",
       "2  ./images/MosK_01975_m_20_o_nf_nc_sd_2015_1_e0_...  [(142, 489, 365, 266)]   \n",
       "\n",
       "   faces_found  \n",
       "0            1  \n",
       "1            1  \n",
       "2            1  "
      ]
     },
     "execution_count": 22,
     "metadata": {},
     "output_type": "execute_result"
    }
   ],
   "source": [
    "# Also add the number of faces found as an integer\n",
    "# Ternary expression handles any values of None, setting those to 0 faces found\n",
    "faces_found_num_col = list(map(lambda x: len(x) if x else 0 , faces_found_col))\n",
    "fr_easy_df['faces_found'] = faces_found_num_col\n",
    "fr_easy_df.head(3)"
   ]
  },
  {
   "cell_type": "code",
   "execution_count": 23,
   "metadata": {},
   "outputs": [
    {
     "name": "stdout",
     "output_type": "stream",
     "text": [
      "113 \n",
      " ./images/DoaB_00744_f_19_o_nf_nc_no_2015_1_e0_Ps_e.jpg \n",
      " ./images/DoaB_00746_f_19_o_nf_nc_no_2015_1_e0_Gn_e.jpg \n",
      " ./images/YosA_02459_f_19_o_nf_nc_hp_2015_1_e0_Ps_e.jpg\n"
     ]
    }
   ],
   "source": [
    "# Have a peek at the images where no faces were found\n",
    "no_faces = fr_easy_df[fr_easy_df['faces_found'] == 0].reset_index(drop=True)\n",
    "print(len(no_faces), \"\\n\", no_faces['image_path'][0], \"\\n\", no_faces['image_path'][1], \"\\n\", no_faces['image_path'][2])"
   ]
  },
  {
   "cell_type": "markdown",
   "metadata": {},
   "source": [
    "<p float=\"left\">\n",
    "  <img style=\"display: inline;\" src=\"./images/DoaB_00744_f_19_o_nf_nc_no_2015_1_e0_Ps_e.jpg \" width=\"200\" />\n",
    "  <img style=\"display: inline;\" src=\"./images/DoaB_00746_f_19_o_nf_nc_no_2015_1_e0_Gn_e.jpg\" width=\"200\" /> \n",
    "  <img style=\"display: inline;\" src=\"./images/YosA_02459_f_19_o_nf_nc_hp_2015_1_e0_Ps_e.jpg\" width=\"200\" />\n",
    "</p>"
   ]
  },
  {
   "cell_type": "code",
   "execution_count": 24,
   "metadata": {},
   "outputs": [
    {
     "name": "stdout",
     "output_type": "stream",
     "text": [
      "11 \n",
      " ./images/GeoS_00798_m_22_o_fr_nc_hp_2015_1_e0_Gs_e.jpg \n",
      " ./images/MazR_01333_m_24_o_nf_nc_hp_2015_1_en_nl_e.jpg \n",
      " ./images/PetJ_02247_m_20_o_fr_cr_hp_2015_1_e0_Gs_e.jpg\n"
     ]
    }
   ],
   "source": [
    "# Have a peek at the images where multiple faces were found\n",
    "many_faces = fr_easy_df[fr_easy_df['faces_found'] > 1].reset_index(drop=True)\n",
    "print(len(many_faces), \"\\n\", many_faces['image_path'][0], \"\\n\", many_faces['image_path'][1], \"\\n\", many_faces['image_path'][2])"
   ]
  },
  {
   "cell_type": "markdown",
   "metadata": {},
   "source": [
    "<p float=\"left\">\n",
    "  <img style=\"display: inline;\" src=\"./images/GeoS_00798_m_22_o_fr_nc_hp_2015_1_e0_Gs_e.jpg\" width=\"200\" />\n",
    "  <img style=\"display: inline;\" src=\"./images/MazR_01333_m_24_o_nf_nc_hp_2015_1_en_nl_e.jpg\" width=\"200\" /> \n",
    "  <img style=\"display: inline;\" src=\"./images/PetJ_02247_m_20_o_fr_cr_hp_2015_1_e0_Gs_e.jpg\" width=\"200\" />\n",
    "</p>"
   ]
  },
  {
   "cell_type": "code",
   "execution_count": 25,
   "metadata": {},
   "outputs": [
    {
     "data": {
      "text/html": [
       "<div>\n",
       "<style scoped>\n",
       "    .dataframe tbody tr th:only-of-type {\n",
       "        vertical-align: middle;\n",
       "    }\n",
       "\n",
       "    .dataframe tbody tr th {\n",
       "        vertical-align: top;\n",
       "    }\n",
       "\n",
       "    .dataframe thead th {\n",
       "        text-align: right;\n",
       "    }\n",
       "</style>\n",
       "<table border=\"1\" class=\"dataframe\">\n",
       "  <thead>\n",
       "    <tr style=\"text-align: right;\">\n",
       "      <th></th>\n",
       "      <th>subject_id</th>\n",
       "      <th>image_sequence_number</th>\n",
       "      <th>gender</th>\n",
       "      <th>age</th>\n",
       "      <th>lighting</th>\n",
       "      <th>view</th>\n",
       "      <th>cropped</th>\n",
       "      <th>facial_emotion</th>\n",
       "      <th>year</th>\n",
       "      <th>part</th>\n",
       "      <th>occlusion</th>\n",
       "      <th>image_filters</th>\n",
       "      <th>level_of_difficulty</th>\n",
       "      <th>image_path</th>\n",
       "      <th>face_locations</th>\n",
       "      <th>faces_found</th>\n",
       "    </tr>\n",
       "  </thead>\n",
       "  <tbody>\n",
       "    <tr>\n",
       "      <th>0</th>\n",
       "      <td>MotM</td>\n",
       "      <td>1984</td>\n",
       "      <td>m</td>\n",
       "      <td>21</td>\n",
       "      <td>i</td>\n",
       "      <td>fr</td>\n",
       "      <td>nc</td>\n",
       "      <td>sd</td>\n",
       "      <td>2015</td>\n",
       "      <td>1</td>\n",
       "      <td>e0</td>\n",
       "      <td>Gn</td>\n",
       "      <td>e</td>\n",
       "      <td>./images/MotM_01984_m_21_i_fr_nc_sd_2015_1_e0_...</td>\n",
       "      <td>[(171, 379, 439, 111)]</td>\n",
       "      <td>1</td>\n",
       "    </tr>\n",
       "    <tr>\n",
       "      <th>1</th>\n",
       "      <td>PetK</td>\n",
       "      <td>2257</td>\n",
       "      <td>m</td>\n",
       "      <td>20</td>\n",
       "      <td>i</td>\n",
       "      <td>nf</td>\n",
       "      <td>nc</td>\n",
       "      <td>no</td>\n",
       "      <td>2015</td>\n",
       "      <td>1</td>\n",
       "      <td>e0</td>\n",
       "      <td>Ps</td>\n",
       "      <td>e</td>\n",
       "      <td>./images/PetK_02257_m_20_i_nf_nc_no_2015_1_e0_...</td>\n",
       "      <td>[(118, 464, 341, 241)]</td>\n",
       "      <td>1</td>\n",
       "    </tr>\n",
       "    <tr>\n",
       "      <th>2</th>\n",
       "      <td>MosK</td>\n",
       "      <td>1975</td>\n",
       "      <td>m</td>\n",
       "      <td>20</td>\n",
       "      <td>o</td>\n",
       "      <td>nf</td>\n",
       "      <td>nc</td>\n",
       "      <td>sd</td>\n",
       "      <td>2015</td>\n",
       "      <td>1</td>\n",
       "      <td>e0</td>\n",
       "      <td>Gs</td>\n",
       "      <td>e</td>\n",
       "      <td>./images/MosK_01975_m_20_o_nf_nc_sd_2015_1_e0_...</td>\n",
       "      <td>[(142, 489, 365, 266)]</td>\n",
       "      <td>1</td>\n",
       "    </tr>\n",
       "  </tbody>\n",
       "</table>\n",
       "</div>"
      ],
      "text/plain": [
       "  subject_id  image_sequence_number gender  age lighting view cropped  \\\n",
       "0       MotM                   1984      m   21        i   fr      nc   \n",
       "1       PetK                   2257      m   20        i   nf      nc   \n",
       "2       MosK                   1975      m   20        o   nf      nc   \n",
       "\n",
       "  facial_emotion  year  part occlusion image_filters level_of_difficulty  \\\n",
       "0             sd  2015     1        e0            Gn                   e   \n",
       "1             no  2015     1        e0            Ps                   e   \n",
       "2             sd  2015     1        e0            Gs                   e   \n",
       "\n",
       "                                          image_path          face_locations  \\\n",
       "0  ./images/MotM_01984_m_21_i_fr_nc_sd_2015_1_e0_...  [(171, 379, 439, 111)]   \n",
       "1  ./images/PetK_02257_m_20_i_nf_nc_no_2015_1_e0_...  [(118, 464, 341, 241)]   \n",
       "2  ./images/MosK_01975_m_20_o_nf_nc_sd_2015_1_e0_...  [(142, 489, 365, 266)]   \n",
       "\n",
       "   faces_found  \n",
       "0            1  \n",
       "1            1  \n",
       "2            1  "
      ]
     },
     "execution_count": 25,
     "metadata": {},
     "output_type": "execute_result"
    }
   ],
   "source": [
    "# We should remove any instances where the number of faces found is not 1\n",
    "fr_easy_df_one_face_only = fr_easy_df[fr_easy_df['faces_found'] == 1].reset_index(drop=True)\n",
    "fr_easy_df_one_face_only.head(3)"
   ]
  },
  {
   "cell_type": "code",
   "execution_count": 26,
   "metadata": {},
   "outputs": [
    {
     "data": {
      "text/plain": [
       "(1961, 16)"
      ]
     },
     "execution_count": 26,
     "metadata": {},
     "output_type": "execute_result"
    }
   ],
   "source": [
    "fr_easy_df_one_face_only.shape"
   ]
  },
  {
   "cell_type": "code",
   "execution_count": 27,
   "metadata": {},
   "outputs": [],
   "source": [
    "# Store the results up to now in a CSV for safe keeping\n",
    "fr_easy_df_one_face_only.to_csv(index=False, sep=\",\", path_or_buf=\"./easy_faces_2015_one_face_only.csv\")"
   ]
  },
  {
   "cell_type": "markdown",
   "metadata": {},
   "source": [
    "Please refer to part 2 which will focus on matching..."
   ]
  }
 ],
 "metadata": {
  "kernelspec": {
   "display_name": "Python 3",
   "language": "python",
   "name": "python3"
  },
  "language_info": {
   "codemirror_mode": {
    "name": "ipython",
    "version": 3
   },
   "file_extension": ".py",
   "mimetype": "text/x-python",
   "name": "python",
   "nbconvert_exporter": "python",
   "pygments_lexer": "ipython3",
   "version": "3.5.6"
  }
 },
 "nbformat": 4,
 "nbformat_minor": 2
}
